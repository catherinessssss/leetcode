{
 "metadata": {
  "language_info": {
   "codemirror_mode": {
    "name": "ipython",
    "version": 3
   },
   "file_extension": ".py",
   "mimetype": "text/x-python",
   "name": "python",
   "nbconvert_exporter": "python",
   "pygments_lexer": "ipython3",
   "version": 3
  },
  "orig_nbformat": 2
 },
 "nbformat": 4,
 "nbformat_minor": 2,
 "cells": [
  {
   "source": [
    "class Solution:\n",
    "    def reverseParentheses(self, s: str) -> str:\n",
    "        stk = []\n",
    "        temp_str = ''\n",
    "        for i in s:\n",
    "            if i == '(':\n",
    "                stk.append(temp_str)\n",
    "                temp_str = ''\n",
    "            elif i == ')':\n",
    "                # reverse\n",
    "                temp_str = temp_str[::-1]\n",
    "                temp_str = stk.pop() + temp_str\n",
    "            else:\n",
    "                temp_str += i\n",
    "\n",
    "\n",
    "        return temp_str\n",
    "            "
   ],
   "cell_type": "code",
   "metadata": {},
   "execution_count": null,
   "outputs": []
  }
 ]
}