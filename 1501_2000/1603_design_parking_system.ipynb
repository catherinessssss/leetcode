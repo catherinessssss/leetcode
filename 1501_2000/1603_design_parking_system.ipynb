{
 "metadata": {
  "language_info": {
   "codemirror_mode": {
    "name": "ipython",
    "version": 3
   },
   "file_extension": ".py",
   "mimetype": "text/x-python",
   "name": "python",
   "nbconvert_exporter": "python",
   "pygments_lexer": "ipython3",
   "version": "3.7.6"
  },
  "orig_nbformat": 2,
  "kernelspec": {
   "name": "python376jvsc74a57bd0f3dc6e04e85a90d53f8a571fe0aa30f025310ddf2c815bafbaf925917fad1d74",
   "display_name": "Python 3.7.6 64-bit ('venv': virtualenv)"
  }
 },
 "nbformat": 4,
 "nbformat_minor": 2,
 "cells": [
  {
   "cell_type": "code",
   "execution_count": 71,
   "metadata": {},
   "outputs": [],
   "source": [
    "from enum import Enum\n",
    "\n",
    "class ParkingSystem:\n",
    "    # Your ParkingSystem object will be instantiated and called as such:\n",
    "    # obj = ParkingSystem(big, medium, small)\n",
    "    # param_1 = obj.addCar(carType)\n",
    "    def __init__(self, big: int, medium: int, small: int):\n",
    "        \n",
    "        self.available_space = {\n",
    "            1: big,\n",
    "            2: medium,\n",
    "            3: small,\n",
    "        }\n",
    "\n",
    "\n",
    "    def addCar(self, carType: int) -> bool:\n",
    "        if self.available_space[carType] > 0:\n",
    "            self.available_space[carType] -= 1\n",
    "            return True\n",
    "        \n",
    "        return False\n"
   ]
  },
  {
   "cell_type": "code",
   "execution_count": 72,
   "metadata": {},
   "outputs": [
    {
     "output_type": "stream",
     "name": "stdout",
     "text": [
      "True\nTrue\nFalse\nFalse\n"
     ]
    }
   ],
   "source": [
    "parking_system = ParkingSysten(1, 1, 0)\n",
    "print(parking_system.addCar(1))\n",
    "print(parking_system.addCar(2))\n",
    "print(parking_system.addCar(3))\n",
    "print(parking_system.addCar(1))"
   ]
  },
  {
   "cell_type": "code",
   "execution_count": null,
   "metadata": {},
   "outputs": [],
   "source": []
  }
 ]
}