{
 "metadata": {
  "language_info": {
   "codemirror_mode": {
    "name": "ipython",
    "version": 3
   },
   "file_extension": ".py",
   "mimetype": "text/x-python",
   "name": "python",
   "nbconvert_exporter": "python",
   "pygments_lexer": "ipython3",
   "version": 3
  },
  "orig_nbformat": 2
 },
 "nbformat": 4,
 "nbformat_minor": 2,
 "cells": [
  {
   "cell_type": "code",
   "execution_count": null,
   "metadata": {},
   "outputs": [],
   "source": [
    "from typing import List\n",
    "\n",
    "class Solution:\n",
    "    def checkSubarraySum(self, nums: List[int], k:int) -> bool:\n",
    "        # 同余定理\n",
    "        # 即当两个数除以某个数的余数相等，那么二者相减后肯定可以被该数整除\n",
    "\n",
    "        # 以防前两个数字之和被k整除情况\n",
    "        # d[0] = 1, d[0] = 2, index - 2 就不能 >= i\n",
    "        d = {0: -1}\n",
    "        pre = 0\n",
    "        for index, num in enumerate(nums):\n",
    "            pre += num\n",
    "            remainder = pre % k\n",
    "            \n",
    "\n",
    "            i = d.get(remainder, index)\n",
    "            if i == index:\n",
    "                d[remainder] = index\n",
    "            elif i <= index - 2:\n",
    "                return True\n",
    "\n",
    "        return False"
   ]
  }
 ]
}