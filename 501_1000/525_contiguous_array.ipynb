{
 "metadata": {
  "language_info": {
   "codemirror_mode": {
    "name": "ipython",
    "version": 3
   },
   "file_extension": ".py",
   "mimetype": "text/x-python",
   "name": "python",
   "nbconvert_exporter": "python",
   "pygments_lexer": "ipython3",
   "version": 3
  },
  "orig_nbformat": 2
 },
 "nbformat": 4,
 "nbformat_minor": 2,
 "cells": [
  {
   "cell_type": "code",
   "execution_count": null,
   "metadata": {},
   "outputs": [],
   "source": [
    "from typing import List\n",
    "\n",
    "class Solution:\n",
    "    def findMaxLength(self, nums: List[int]) -> int:\n",
    "        # 前缀和字典: key为1的数量和0的数量的差值,value为对应坐标\n",
    "        hashmap = {0:-1}\n",
    "        # 当前1的数量和0的数量的差值\n",
    "        counter = ans = 0\n",
    "        for i,num in enumerate(nums):\n",
    "            # 每多一个1，差值+1\n",
    "            if num:\n",
    "                counter += 1\n",
    "            # 每多一个0，差值-1\n",
    "            else:\n",
    "                counter -= 1\n",
    "            # 如果存在1和0的数量差值相等的地方，那么说明后者到前者之前1和0的数量相等！\n",
    "\n",
    "            print(counter)\n",
    "            if counter in hashmap:\n",
    "                ans = max(ans, i - hashmap[counter])\n",
    "            else:\n",
    "                hashmap[counter] = i\n",
    "\n",
    "            print(hashmap)\n",
    "        return ans\n"
   ]
  }
 ]
}