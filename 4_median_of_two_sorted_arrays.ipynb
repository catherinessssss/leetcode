{
 "metadata": {
  "language_info": {
   "codemirror_mode": {
    "name": "ipython",
    "version": 3
   },
   "file_extension": ".py",
   "mimetype": "text/x-python",
   "name": "python",
   "nbconvert_exporter": "python",
   "pygments_lexer": "ipython3",
   "version": "3.7.6-final"
  },
  "orig_nbformat": 2,
  "kernelspec": {
   "name": "python3",
   "display_name": "Python 3.7.6 64-bit ('venv': virtualenv)",
   "metadata": {
    "interpreter": {
     "hash": "f3dc6e04e85a90d53f8a571fe0aa30f025310ddf2c815bafbaf925917fad1d74"
    }
   }
  }
 },
 "nbformat": 4,
 "nbformat_minor": 2,
 "cells": [
  {
   "source": [
    "from typing import List\n",
    "\n",
    "class Solution:\n",
    "    def findMedianSortedArrays(self, nums1: List[int], nums2: List[int]) -> float:\n",
    "        first_idx = 0\n",
    "        sec_idx = 0\n",
    "\n",
    "        length1 = len(nums1)\n",
    "        length2 = len(nums2)\n",
    "\n",
    "        total_length = length1 + length2\n",
    "        if total_length == 0:\n",
    "            return 0\n",
    "        \n",
    "        if total_length == 1:\n",
    "            return nums1[0] if length1 == 1 else nums2[0]\n",
    "        \n",
    "\n",
    "        is_even = total_length % 2 == 0\n",
    "        max_number = int(total_length / 2) + 2\n",
    "        new_nums = []\n",
    "\n",
    "        for i in range(total_length):\n",
    "            if first_idx < length1 and sec_idx < length2:\n",
    "                if nums1[first_idx] <= nums2[sec_idx]:\n",
    "                    new_nums.append(nums1[first_idx])\n",
    "                    first_idx += 1\n",
    "                else:\n",
    "                    new_nums.append(nums2[sec_idx])\n",
    "                    sec_idx += 1\n",
    "            \n",
    "            elif first_idx >= length1:\n",
    "                new_nums.append(nums2[sec_idx])\n",
    "                sec_idx += 1\n",
    "            \n",
    "            elif sec_idx >= length2:\n",
    "                new_nums.append(nums1[first_idx])\n",
    "                first_idx += 1\n",
    "        \n",
    "        print(new_nums)\n",
    "\n",
    "        # Get the median index    \n",
    "        if is_even is True:\n",
    "            middle_idx = [int(total_length / 2), int(total_length / 2) + 1]\n",
    "            print(middle_idx)\n",
    "            return (new_nums[middle_idx[0] - 1] + new_nums[middle_idx[1] - 1]) / 2\n",
    "\n",
    "        else:\n",
    "            middle_idx = int(total_length / 2)\n",
    "            print(middle_idx)\n",
    "            return new_nums[middle_idx]\n"
   ],
   "cell_type": "code",
   "metadata": {},
   "execution_count": 59,
   "outputs": []
  },
  {
   "cell_type": "code",
   "execution_count": 60,
   "metadata": {},
   "outputs": [],
   "source": [
    "solution = Solution()"
   ]
  },
  {
   "cell_type": "code",
   "execution_count": 65,
   "metadata": {},
   "outputs": [
    {
     "output_type": "stream",
     "name": "stdout",
     "text": [
      "[1, 2, 3, 4]\n[2, 3]\n"
     ]
    },
    {
     "output_type": "execute_result",
     "data": {
      "text/plain": [
       "2.5"
      ]
     },
     "metadata": {},
     "execution_count": 65
    }
   ],
   "source": [
    "solution.findMedianSortedArrays([2,4], [1,3])"
   ]
  },
  {
   "cell_type": "code",
   "execution_count": 23,
   "metadata": {},
   "outputs": [
    {
     "output_type": "execute_result",
     "data": {
      "text/plain": [
       "3"
      ]
     },
     "metadata": {},
     "execution_count": 23
    }
   ],
   "source": [
    "int(3.5)"
   ]
  },
  {
   "cell_type": "code",
   "execution_count": null,
   "metadata": {},
   "outputs": [],
   "source": []
  }
 ]
}