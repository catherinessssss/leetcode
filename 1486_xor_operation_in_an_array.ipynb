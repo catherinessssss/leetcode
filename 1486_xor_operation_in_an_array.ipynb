{
 "metadata": {
  "language_info": {
   "codemirror_mode": {
    "name": "ipython",
    "version": 3
   },
   "file_extension": ".py",
   "mimetype": "text/x-python",
   "name": "python",
   "nbconvert_exporter": "python",
   "pygments_lexer": "ipython3",
   "version": "3.7.6"
  },
  "orig_nbformat": 2,
  "kernelspec": {
   "name": "python376jvsc74a57bd0f3dc6e04e85a90d53f8a571fe0aa30f025310ddf2c815bafbaf925917fad1d74",
   "display_name": "Python 3.7.6 64-bit ('venv': virtualenv)"
  }
 },
 "nbformat": 4,
 "nbformat_minor": 2,
 "cells": [
  {
   "cell_type": "code",
   "execution_count": 60,
   "metadata": {},
   "outputs": [],
   "source": [
    "class Solution:\n",
    "    # time complexity O(n)\n",
    "    # space complexity O(1)\n",
    "    def xorOperation(self, n: int, start: int) -> int:\n",
    "        result = 0\n",
    "        for i in range(n):\n",
    "            result ^= start + i * 2\n",
    "        return result\n",
    "\n",
    "    \n",
    "    # time complexity O(1)\n",
    "    # space complexity O(1)\n",
    "\n",
    "    def sumXor(self, x: int):\n",
    "        if x % 4 == 0:\n",
    "            return x\n",
    "        if x % 4 == 1:\n",
    "            return 1\n",
    "        if x % 4 == 2:\n",
    "            return x + 1\n",
    "        return 0\n",
    "        \n",
    "\n",
    "    def xorOperation2(self, n: int, start: int) -> int:\n",
    "\n",
    "        s = start >> 1\n",
    "        last = n & start & 1\n",
    "        result = self.sumXor(s - 1) ^ self.sumXor(s + n -1)\n",
    "        return result << 1 | last\n"
   ]
  },
  {
   "cell_type": "code",
   "execution_count": 61,
   "metadata": {},
   "outputs": [],
   "source": [
    "solution = Solution()"
   ]
  },
  {
   "cell_type": "code",
   "execution_count": 62,
   "metadata": {},
   "outputs": [],
   "source": [
    "# test case\n",
    "assert solution.xorOperation(n = 1, start = 7) == 7\n",
    "assert solution.xorOperation(n = 4, start = 3) == 8\n",
    "assert solution.xorOperation(n = 10, start = 5) == 2\n",
    "assert solution.xorOperation(n = 5, start = 0) == 8"
   ]
  },
  {
   "cell_type": "code",
   "execution_count": 63,
   "metadata": {},
   "outputs": [],
   "source": [
    "assert solution.xorOperation2(n = 1, start = 7) == 7\n",
    "assert solution.xorOperation2(n = 4, start = 3) == 8\n",
    "assert solution.xorOperation2(n = 10, start = 5) == 2\n",
    "assert solution.xorOperation2(n = 5, start = 0) == 8"
   ]
  },
  {
   "cell_type": "code",
   "execution_count": null,
   "metadata": {},
   "outputs": [],
   "source": []
  }
 ]
}