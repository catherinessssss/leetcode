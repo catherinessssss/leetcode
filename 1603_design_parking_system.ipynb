{
 "metadata": {
  "language_info": {
   "codemirror_mode": {
    "name": "ipython",
    "version": 3
   },
   "file_extension": ".py",
   "mimetype": "text/x-python",
   "name": "python",
   "nbconvert_exporter": "python",
   "pygments_lexer": "ipython3",
   "version": "3.7.6"
  },
  "orig_nbformat": 2,
  "kernelspec": {
   "name": "python376jvsc74a57bd0f3dc6e04e85a90d53f8a571fe0aa30f025310ddf2c815bafbaf925917fad1d74",
   "display_name": "Python 3.7.6 64-bit ('venv': virtualenv)"
  }
 },
 "nbformat": 4,
 "nbformat_minor": 2,
 "cells": [
  {
   "cell_type": "code",
   "execution_count": 14,
   "metadata": {},
   "outputs": [],
   "source": [
    "from enum import Enum\n",
    "\n",
    "class CAR_TYPE(Enum):\n",
    "    BUG = 1\n",
    "    MEDIUM = 2\n",
    "    SMALL = 3\n",
    "\n",
    "class ParkingSysten:\n",
    "    # Your ParkingSystem object will be instantiated and called as such:\n",
    "    # obj = ParkingSystem(big, medium, small)\n",
    "    # param_1 = obj.addCar(carType)\n",
    "    def __init__(self, big: int, medium: int, small: int):\n",
    "        \n",
    "        self.available_space = {\n",
    "            [CAR_TYPE.BIG]: big,\n",
    "            [CAR_TYPE.MEDIUM]: medium,\n",
    "            [CAR_TYPE.SMALL]: small\n",
    "        }\n",
    "        self.current_cars = {\n",
    "            [CAR_TYPE.BIG]: 0,\n",
    "            [CAR_TYPE.MEDIUM]: 0,\n",
    "            [CAR_TYPE.SMALL]: 0\n",
    "        }\n",
    "\n",
    "\n",
    "    def addCar(self, carType: int) -> bool:\n",
    "        if self.current_cars[carType] < self.available_space[carType]:\n",
    "            self.current_cars[carType] += 1\n",
    "            return True\n",
    "        \n",
    "        return False\n"
   ]
  },
  {
   "cell_type": "code",
   "execution_count": 17,
   "metadata": {},
   "outputs": [
    {
     "output_type": "execute_result",
     "data": {
      "text/plain": [
       "<enum 'CarType'>"
      ]
     },
     "metadata": {},
     "execution_count": 17
    }
   ],
   "source": []
  },
  {
   "cell_type": "code",
   "execution_count": 8,
   "metadata": {},
   "outputs": [
    {
     "output_type": "error",
     "ename": "AttributeError",
     "evalue": "'dict' object has no attribute 'BIG'",
     "traceback": [
      "\u001b[0;31m---------------------------------------------------------------------------\u001b[0m",
      "\u001b[0;31mAttributeError\u001b[0m                            Traceback (most recent call last)",
      "\u001b[0;32m<ipython-input-8-7d9f26b81497>\u001b[0m in \u001b[0;36m<module>\u001b[0;34m\u001b[0m\n\u001b[0;32m----> 1\u001b[0;31m \u001b[0mparking_system\u001b[0m \u001b[0;34m=\u001b[0m \u001b[0mParkingSysten\u001b[0m\u001b[0;34m(\u001b[0m\u001b[0;36m1\u001b[0m\u001b[0;34m,\u001b[0m \u001b[0;36m1\u001b[0m\u001b[0;34m,\u001b[0m \u001b[0;36m0\u001b[0m\u001b[0;34m)\u001b[0m\u001b[0;34m\u001b[0m\u001b[0;34m\u001b[0m\u001b[0m\n\u001b[0m\u001b[1;32m      2\u001b[0m \u001b[0mparkingSystem\u001b[0m\u001b[0;34m.\u001b[0m\u001b[0maddCar\u001b[0m\u001b[0;34m(\u001b[0m\u001b[0;36m1\u001b[0m\u001b[0;34m)\u001b[0m\u001b[0;34m\u001b[0m\u001b[0;34m\u001b[0m\u001b[0m\n\u001b[1;32m      3\u001b[0m \u001b[0mparkingSystem\u001b[0m\u001b[0;34m.\u001b[0m\u001b[0maddCar\u001b[0m\u001b[0;34m(\u001b[0m\u001b[0;36m2\u001b[0m\u001b[0;34m)\u001b[0m\u001b[0;34m\u001b[0m\u001b[0;34m\u001b[0m\u001b[0m\n\u001b[1;32m      4\u001b[0m \u001b[0mparkingSystem\u001b[0m\u001b[0;34m.\u001b[0m\u001b[0maddCar\u001b[0m\u001b[0;34m(\u001b[0m\u001b[0;36m3\u001b[0m\u001b[0;34m)\u001b[0m\u001b[0;34m\u001b[0m\u001b[0;34m\u001b[0m\u001b[0m\n\u001b[1;32m      5\u001b[0m \u001b[0mparkingSystem\u001b[0m\u001b[0;34m.\u001b[0m\u001b[0maddCar\u001b[0m\u001b[0;34m(\u001b[0m\u001b[0;36m1\u001b[0m\u001b[0;34m)\u001b[0m\u001b[0;34m\u001b[0m\u001b[0;34m\u001b[0m\u001b[0m\n",
      "\u001b[0;32m<ipython-input-7-8d9e82635b5c>\u001b[0m in \u001b[0;36m__init__\u001b[0;34m(self, big, medium, small)\u001b[0m\n\u001b[1;32m     10\u001b[0m     \u001b[0;32mdef\u001b[0m \u001b[0m__init__\u001b[0m\u001b[0;34m(\u001b[0m\u001b[0mself\u001b[0m\u001b[0;34m,\u001b[0m \u001b[0mbig\u001b[0m\u001b[0;34m:\u001b[0m \u001b[0mint\u001b[0m\u001b[0;34m,\u001b[0m \u001b[0mmedium\u001b[0m\u001b[0;34m:\u001b[0m \u001b[0mint\u001b[0m\u001b[0;34m,\u001b[0m \u001b[0msmall\u001b[0m\u001b[0;34m:\u001b[0m \u001b[0mint\u001b[0m\u001b[0;34m)\u001b[0m\u001b[0;34m:\u001b[0m\u001b[0;34m\u001b[0m\u001b[0;34m\u001b[0m\u001b[0m\n\u001b[1;32m     11\u001b[0m         self.available_space = {\n\u001b[0;32m---> 12\u001b[0;31m             \u001b[0;34m[\u001b[0m\u001b[0mCAR_TYPE\u001b[0m\u001b[0;34m.\u001b[0m\u001b[0mBIG\u001b[0m\u001b[0;34m]\u001b[0m\u001b[0;34m:\u001b[0m \u001b[0mbig\u001b[0m\u001b[0;34m,\u001b[0m\u001b[0;34m\u001b[0m\u001b[0;34m\u001b[0m\u001b[0m\n\u001b[0m\u001b[1;32m     13\u001b[0m             \u001b[0;34m[\u001b[0m\u001b[0mCAR_TYPE\u001b[0m\u001b[0;34m.\u001b[0m\u001b[0mMEDIUM\u001b[0m\u001b[0;34m]\u001b[0m\u001b[0;34m:\u001b[0m \u001b[0mmedium\u001b[0m\u001b[0;34m,\u001b[0m\u001b[0;34m\u001b[0m\u001b[0;34m\u001b[0m\u001b[0m\n\u001b[1;32m     14\u001b[0m             \u001b[0;34m[\u001b[0m\u001b[0mCAR_TYPE\u001b[0m\u001b[0;34m.\u001b[0m\u001b[0mSMALL\u001b[0m\u001b[0;34m]\u001b[0m\u001b[0;34m:\u001b[0m \u001b[0msmall\u001b[0m\u001b[0;34m\u001b[0m\u001b[0;34m\u001b[0m\u001b[0m\n",
      "\u001b[0;31mAttributeError\u001b[0m: 'dict' object has no attribute 'BIG'"
     ]
    }
   ],
   "source": [
    "parking_system = ParkingSysten(1, 1, 0)\n",
    "parkingSystem.addCar(1) \n",
    "parkingSystem.addCar(2)\n",
    "parkingSystem.addCar(3)\n",
    "parkingSystem.addCar(1)"
   ]
  },
  {
   "cell_type": "code",
   "execution_count": null,
   "metadata": {},
   "outputs": [],
   "source": []
  }
 ]
}