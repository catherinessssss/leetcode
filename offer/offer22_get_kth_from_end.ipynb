{
 "cells": [
  {
   "cell_type": "code",
   "execution_count": 1,
   "source": [
    "from typing import List"
   ],
   "outputs": [],
   "metadata": {}
  },
  {
   "cell_type": "code",
   "execution_count": null,
   "source": [
    "# Definition for singly-linked list.\n",
    "class ListNode:\n",
    "    def __init__(self, x):\n",
    "        self.val = x\n",
    "        self.next = None\n",
    "\n",
    "class Solution:\n",
    "    def getKthFromEnd(self, head: ListNode, k: int) -> ListNode:\n",
    "        temp = head\n",
    "        temp_end = head\n",
    "        for i in range(k-1):\n",
    "            if temp_end is not None:\n",
    "                temp_end = temp_end.next\n",
    "            else:\n",
    "                return temp\n",
    "        while(temp_end.next is not None):\n",
    "            temp = temp.next\n",
    "            temp_end = temp_end.next\n",
    "        return temp\n",
    "\n",
    "# official\n",
    "# class Solution:\n",
    "#     def getKthFromEnd(self, head: ListNode, k: int) -> ListNode:\n",
    "#         fast, slow = head, head\n",
    "\n",
    "#         while fast and k > 0:\n",
    "#             fast, k = fast.next, k - 1\n",
    "#         while fast:\n",
    "#             fast,slow = fast.next,slow.next\n",
    "        \n",
    "#         return slow"
   ],
   "outputs": [],
   "metadata": {}
  }
 ],
 "metadata": {
  "orig_nbformat": 4,
  "language_info": {
   "name": "python",
   "version": "3.6.5",
   "mimetype": "text/x-python",
   "codemirror_mode": {
    "name": "ipython",
    "version": 3
   },
   "pygments_lexer": "ipython3",
   "nbconvert_exporter": "python",
   "file_extension": ".py"
  },
  "kernelspec": {
   "name": "python3",
   "display_name": "Python 3.6.5 64-bit ('venv-evaluation': pyenv)"
  },
  "interpreter": {
   "hash": "f782dda554e191cb7d64771bc1e13a22edeb7ccde70764d2295501c27312a8e0"
  }
 },
 "nbformat": 4,
 "nbformat_minor": 2
}