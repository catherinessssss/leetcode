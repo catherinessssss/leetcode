{
 "cells": [
  {
   "cell_type": "code",
   "execution_count": null,
   "source": [
    "from typing import List"
   ],
   "outputs": [],
   "metadata": {}
  },
  {
   "cell_type": "code",
   "execution_count": null,
   "source": [
    "# Definition for singly-linked list.\n",
    "class ListNode:\n",
    "    def __init__(self, val=0, next=None):\n",
    "        self.val = val\n",
    "        self.next = next\n",
    "\n",
    "class Solution:\n",
    "    def removeNthFromEnd(self, head: ListNode, n: int) -> ListNode:\n",
    "        if not head:\n",
    "            return head\n",
    "        slownode = ListNode(None)\n",
    "        slownode.next = head\n",
    "        fastnode = slownode\n",
    "        for i in range(n):\n",
    "            fastnode = fastnode.next\n",
    "        while(fastnode.next!=None):\n",
    "            slownode = slownode.next\n",
    "            fastnode = fastnode.next\n",
    "        if slownode.next == head:\n",
    "            head = head.next\n",
    "        else:\n",
    "            slownode.next = slownode.next.next\n",
    "        return head"
   ],
   "outputs": [],
   "metadata": {}
  }
 ],
 "metadata": {
  "orig_nbformat": 4,
  "language_info": {
   "name": "python"
  }
 },
 "nbformat": 4,
 "nbformat_minor": 2
}