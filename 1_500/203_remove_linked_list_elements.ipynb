{
 "metadata": {
  "language_info": {
   "codemirror_mode": {
    "name": "ipython",
    "version": 3
   },
   "file_extension": ".py",
   "mimetype": "text/x-python",
   "name": "python",
   "nbconvert_exporter": "python",
   "pygments_lexer": "ipython3",
   "version": "3.8.8"
  },
  "orig_nbformat": 2,
  "kernelspec": {
   "name": "python388jvsc74a57bd08fbb1e27a26983781c0675fc94cc980833b6883bcd100a243aab68a6dc1f6ffe",
   "display_name": "Python 3.8.8 64-bit ('sentiment': conda)"
  }
 },
 "nbformat": 4,
 "nbformat_minor": 2,
 "cells": [
  {
   "cell_type": "code",
   "execution_count": 3,
   "metadata": {},
   "outputs": [],
   "source": [
    "# Definition for singly-linked list.\n",
    "class ListNode:\n",
    "    def __init__(self, val=0, next=None):\n",
    "        self.val = val\n",
    "        self.next = next\n",
    "\n",
    "class Solution:\n",
    "    def removeElements(self, head: ListNode, val: int) -> ListNode:\n",
    "        # if head is None:\n",
    "        #     return head\n",
    "        \n",
    "        # head.next = self.removeElements(head.next, val)\n",
    "        # return head.next if head.val == val else head\n",
    "\n",
    "        dummy = ListNode()\n",
    "        dummy.next = head\n",
    "        p = dummy\n",
    "        while p is not None:\n",
    "            # 向前探一个节点检查是否等于val\n",
    "            if p.next and p.next.val == val:\n",
    "                # 跳过 p.next 节点\n",
    "                p.next = p.next.next \n",
    "            else:\n",
    "                p = p.next\n",
    "        return dummy.next\n",
    "\n",
    "\n"
   ]
  },
  {
   "cell_type": "code",
   "execution_count": null,
   "metadata": {},
   "outputs": [],
   "source": []
  }
 ]
}