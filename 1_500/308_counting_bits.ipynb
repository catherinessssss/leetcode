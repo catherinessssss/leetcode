{
 "metadata": {
  "language_info": {
   "codemirror_mode": {
    "name": "ipython",
    "version": 3
   },
   "file_extension": ".py",
   "mimetype": "text/x-python",
   "name": "python",
   "nbconvert_exporter": "python",
   "pygments_lexer": "ipython3",
   "version": 3
  },
  "orig_nbformat": 2
 },
 "nbformat": 4,
 "nbformat_minor": 2,
 "cells": [
  {
   "cell_type": "code",
   "execution_count": null,
   "metadata": {},
   "outputs": [],
   "source": [
    "from typing import List\n",
    "\n",
    "class Solution:\n",
    "    def countBits(self, num: int) -> List[int]:\n",
    "        bits = [0]\n",
    "        highBit = 0\n",
    "        for i in range(1, num + 1):\n",
    "            if i & (i - 1) == 0:\n",
    "                highBit = i\n",
    "            bits.append(bits[i - highBit] + 1)\n",
    "        return bits\n",
    "\n",
    "\n",
    "class Solution:\n",
    "    def countBits(self, num: int) -> List[int]:\n",
    "        bits = [0]\n",
    "        for i in range(1, num + 1):\n",
    "            # if it is odd, add one\n",
    "            is_odd = 0 if i % 2 == 0 else 1\n",
    "            bits.append(bits[i >> 1] + is_odd)\n",
    "        return bits\n",
    "\n",
    "\n",
    "###\n",
    "# Given a non negative integer number num. For every numbers i in the range 0 ≤ i ≤ num calculate the number of 1's in their binary representation and return them as an array.\n",
    "\n",
    "# Example 1:\n",
    "\n",
    "# Input: 2\n",
    "# Output: [0,1,1]\n",
    "# Example 2:\n",
    "\n",
    "# Input: 5\n",
    "# Output: [0,1,1,2,1,2]\n",
    "# Follow up:\n",
    "\n",
    "# It is very easy to come up with a solution with run time O(n*sizeof(integer)). But can you do it in linear time O(n) /possibly in a single pass?\n",
    "# Space complexity should be O(n).\n",
    "# Can you do it like a boss? Do it without using any builtin function like __builtin_popcount in c++ or in any other language.\n",
    "\n",
    "# 来源：力扣（LeetCode）\n",
    "# 链接：https://leetcode-cn.com/problems/counting-bits\n",
    "# 著作权归领扣网络所有。商业转载请联系官方授权，非商业转载请注明出处。\n",
    "\n",
    "\n"
   ]
  }
 ]
}