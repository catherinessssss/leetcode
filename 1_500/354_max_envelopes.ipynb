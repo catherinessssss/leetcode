{
 "metadata": {
  "language_info": {
   "codemirror_mode": {
    "name": "ipython",
    "version": 3
   },
   "file_extension": ".py",
   "mimetype": "text/x-python",
   "name": "python",
   "nbconvert_exporter": "python",
   "pygments_lexer": "ipython3",
   "version": "3.7.6-final"
  },
  "orig_nbformat": 2,
  "kernelspec": {
   "name": "python3",
   "display_name": "Python 3.7.6 64-bit",
   "metadata": {
    "interpreter": {
     "hash": "f3dc6e04e85a90d53f8a571fe0aa30f025310ddf2c815bafbaf925917fad1d74"
    }
   }
  }
 },
 "nbformat": 4,
 "nbformat_minor": 2,
 "cells": [
  {
   "cell_type": "code",
   "execution_count": 1,
   "metadata": {},
   "outputs": [],
   "source": [
    "from typing import List"
   ]
  },
  {
   "cell_type": "code",
   "execution_count": 35,
   "metadata": {},
   "outputs": [],
   "source": [
    "class Solution:\n",
    "    def maxEnvelopes(self, envelopes: List[List[int]]) -> int:\n",
    "        envelopes.sort(key=lambda x: (x[0], -x[1]))\n",
    "        # print(envelopes)\n",
    "        n = len(envelopes)\n",
    "\n",
    "        f = [1] * n\n",
    "        for i in range(n):\n",
    "            for j in range(i):\n",
    "                if envelopes[j][1] < envelopes[i][1]:\n",
    "                    f[i] = max(f[i], f[j] + 1)\n",
    "        \n",
    "        return max(f)"
   ]
  },
  {
   "cell_type": "code",
   "execution_count": 36,
   "metadata": {},
   "outputs": [],
   "source": [
    "solution = Solution()"
   ]
  },
  {
   "cell_type": "code",
   "execution_count": 37,
   "metadata": {},
   "outputs": [
    {
     "output_type": "stream",
     "name": "stdout",
     "text": [
      "[1, 1, 1, 1]\ni 0\ni 1\nj 0\n[2, 3]\n[5, 5]\nfi 1\nfj 2\ni 2\nj 0\n[2, 3]\n[5, 4]\nfi 1\nfj 2\nj 1\n[5, 5]\n[5, 4]\ni 3\nj 0\n[2, 3]\n[6, 7]\nfi 1\nfj 2\nj 1\n[5, 5]\n[6, 7]\nfi 2\nfj 3\nj 2\n[5, 4]\n[6, 7]\nfi 3\nfj 3\n"
     ]
    },
    {
     "output_type": "execute_result",
     "data": {
      "text/plain": [
       "3"
      ]
     },
     "metadata": {},
     "execution_count": 37
    }
   ],
   "source": [
    "solution.maxEnvelopes([[5,5],[5,4],[6,7],[2,3]])"
   ]
  },
  {
   "cell_type": "code",
   "execution_count": 31,
   "metadata": {},
   "outputs": [
    {
     "output_type": "execute_result",
     "data": {
      "text/plain": [
       "5"
      ]
     },
     "metadata": {},
     "execution_count": 31
    }
   ],
   "source": [
    "solution.maxEnvelopes([[2,100],[3,200],[4,300],[5,500],[5,400],[5,250],[6,370],[6,360],[7,380]])"
   ]
  },
  {
   "cell_type": "code",
   "execution_count": null,
   "metadata": {},
   "outputs": [],
   "source": []
  }
 ]
}